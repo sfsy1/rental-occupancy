{
 "cells": [
  {
   "cell_type": "markdown",
   "metadata": {},
   "source": [
    "# **Occupancy Trend Analysis of Rental Apartments**\n",
    "* A quick look at occupancy trend in terms of:\n",
    " * Seasonality in a given year\n",
    " * Different locations and buildings"
   ]
  },
  {
   "cell_type": "code",
   "execution_count": 1,
   "metadata": {},
   "outputs": [],
   "source": [
    "import pandas as pd\n",
    "import numpy as np\n",
    "import matplotlib.pyplot as plt\n",
    "import seaborn as sns\n",
    "%matplotlib inline\n",
    "\n",
    "data = pd.read_excel(\"Data_Test.xlsx\")"
   ]
  },
  {
   "cell_type": "markdown",
   "metadata": {},
   "source": [
    "## **Table basic info**\n",
    "* data is anonymized except for ```contract_start, contract_end```, and possibly ```room_designation``` and ```flat_id```\n",
    "* ```prospect_id``` is unique\n",
    "* several low cardinality rows ```legal_entity, area_name, country_code, parent_id``` \n",
    "* ```room_designation``` has 912 missing values out of 2557 entries"
   ]
  },
  {
   "cell_type": "code",
   "execution_count": 3,
   "metadata": {},
   "outputs": [
    {
     "data": {
      "text/html": [
       "<div>\n",
       "<style scoped>\n",
       "    .dataframe tbody tr th:only-of-type {\n",
       "        vertical-align: middle;\n",
       "    }\n",
       "\n",
       "    .dataframe tbody tr th {\n",
       "        vertical-align: top;\n",
       "    }\n",
       "\n",
       "    .dataframe thead th {\n",
       "        text-align: right;\n",
       "    }\n",
       "</style>\n",
       "<table border=\"1\" class=\"dataframe\">\n",
       "  <thead>\n",
       "    <tr style=\"text-align: right;\">\n",
       "      <th></th>\n",
       "      <th>room_designation</th>\n",
       "      <th>flat_id</th>\n",
       "      <th>legal_entity</th>\n",
       "      <th>area_name</th>\n",
       "      <th>building</th>\n",
       "      <th>customer_invoice_name</th>\n",
       "      <th>prospect_id</th>\n",
       "      <th>parent_id</th>\n",
       "      <th>contract_start</th>\n",
       "      <th>contract_end</th>\n",
       "      <th>first_name</th>\n",
       "      <th>last_name</th>\n",
       "      <th>country_code</th>\n",
       "      <th>assigned_to</th>\n",
       "    </tr>\n",
       "  </thead>\n",
       "  <tbody>\n",
       "    <tr>\n",
       "      <th>0</th>\n",
       "      <td>XG_XXG_339JC_03-01_01</td>\n",
       "      <td>XG_XXG_339JC_03-01</td>\n",
       "      <td>-2474026488422860800</td>\n",
       "      <td>8911482309382230016</td>\n",
       "      <td>-269320407854525376</td>\n",
       "      <td>-6296112636846270464</td>\n",
       "      <td>2147440816</td>\n",
       "      <td>0</td>\n",
       "      <td>2017-10-01</td>\n",
       "      <td>2018-01-02</td>\n",
       "      <td>1804532529119746816</td>\n",
       "      <td>-7080105314284391424</td>\n",
       "      <td>4422705706840367104</td>\n",
       "      <td>8794469769934</td>\n",
       "    </tr>\n",
       "    <tr>\n",
       "      <th>1</th>\n",
       "      <td>XG_XXG_OS_45-03_03</td>\n",
       "      <td>XG_XXG_OS_45-03</td>\n",
       "      <td>-2474026488422860800</td>\n",
       "      <td>4412711573147853312</td>\n",
       "      <td>2553316829000431616</td>\n",
       "      <td>1920755500500865536</td>\n",
       "      <td>2147440961</td>\n",
       "      <td>0</td>\n",
       "      <td>2017-11-04</td>\n",
       "      <td>2018-01-02</td>\n",
       "      <td>2112491101215987456</td>\n",
       "      <td>-7251777801434685440</td>\n",
       "      <td>4422705706840367104</td>\n",
       "      <td>8794469769934</td>\n",
       "    </tr>\n",
       "    <tr>\n",
       "      <th>2</th>\n",
       "      <td>NaN</td>\n",
       "      <td>XG_XXG_ON-C_05-10</td>\n",
       "      <td>-8742682301542458368</td>\n",
       "      <td>-6459015886507585536</td>\n",
       "      <td>-473634675804173440</td>\n",
       "      <td>5075959393804346368</td>\n",
       "      <td>2147438757</td>\n",
       "      <td>0</td>\n",
       "      <td>2017-12-03</td>\n",
       "      <td>2018-01-02</td>\n",
       "      <td>8799131116189437952</td>\n",
       "      <td>6151051033233982464</td>\n",
       "      <td>4422705706840367104</td>\n",
       "      <td>4532170481802019840</td>\n",
       "    </tr>\n",
       "  </tbody>\n",
       "</table>\n",
       "</div>"
      ],
      "text/plain": [
       "        room_designation             flat_id         legal_entity  \\\n",
       "0  XG_XXG_339JC_03-01_01  XG_XXG_339JC_03-01 -2474026488422860800   \n",
       "1     XG_XXG_OS_45-03_03     XG_XXG_OS_45-03 -2474026488422860800   \n",
       "2                    NaN   XG_XXG_ON-C_05-10 -8742682301542458368   \n",
       "\n",
       "             area_name             building  customer_invoice_name  \\\n",
       "0  8911482309382230016  -269320407854525376   -6296112636846270464   \n",
       "1  4412711573147853312  2553316829000431616    1920755500500865536   \n",
       "2 -6459015886507585536  -473634675804173440    5075959393804346368   \n",
       "\n",
       "   prospect_id  parent_id contract_start contract_end           first_name  \\\n",
       "0   2147440816          0     2017-10-01   2018-01-02  1804532529119746816   \n",
       "1   2147440961          0     2017-11-04   2018-01-02  2112491101215987456   \n",
       "2   2147438757          0     2017-12-03   2018-01-02  8799131116189437952   \n",
       "\n",
       "             last_name         country_code          assigned_to  \n",
       "0 -7080105314284391424  4422705706840367104        8794469769934  \n",
       "1 -7251777801434685440  4422705706840367104        8794469769934  \n",
       "2  6151051033233982464  4422705706840367104  4532170481802019840  "
      ]
     },
     "execution_count": 3,
     "metadata": {},
     "output_type": "execute_result"
    }
   ],
   "source": [
    "data.head(3)"
   ]
  },
  {
   "cell_type": "code",
   "execution_count": 4,
   "metadata": {},
   "outputs": [
    {
     "name": "stdout",
     "output_type": "stream",
     "text": [
      "total rows: 2557\n"
     ]
    }
   ],
   "source": [
    "print(\"total rows: {}\".format(len(data)))"
   ]
  },
  {
   "cell_type": "code",
   "execution_count": 5,
   "metadata": {},
   "outputs": [
    {
     "data": {
      "text/html": [
       "<div>\n",
       "<style scoped>\n",
       "    .dataframe tbody tr th:only-of-type {\n",
       "        vertical-align: middle;\n",
       "    }\n",
       "\n",
       "    .dataframe tbody tr th {\n",
       "        vertical-align: top;\n",
       "    }\n",
       "\n",
       "    .dataframe thead th {\n",
       "        text-align: right;\n",
       "    }\n",
       "</style>\n",
       "<table border=\"1\" class=\"dataframe\">\n",
       "  <thead>\n",
       "    <tr style=\"text-align: right;\">\n",
       "      <th></th>\n",
       "      <th>unique entries</th>\n",
       "    </tr>\n",
       "  </thead>\n",
       "  <tbody>\n",
       "    <tr>\n",
       "      <th>room_designation</th>\n",
       "      <td>777</td>\n",
       "    </tr>\n",
       "    <tr>\n",
       "      <th>flat_id</th>\n",
       "      <td>547</td>\n",
       "    </tr>\n",
       "    <tr>\n",
       "      <th>legal_entity</th>\n",
       "      <td>5</td>\n",
       "    </tr>\n",
       "    <tr>\n",
       "      <th>area_name</th>\n",
       "      <td>40</td>\n",
       "    </tr>\n",
       "    <tr>\n",
       "      <th>building</th>\n",
       "      <td>153</td>\n",
       "    </tr>\n",
       "    <tr>\n",
       "      <th>customer_invoice_name</th>\n",
       "      <td>2036</td>\n",
       "    </tr>\n",
       "    <tr>\n",
       "      <th>prospect_id</th>\n",
       "      <td>2557</td>\n",
       "    </tr>\n",
       "    <tr>\n",
       "      <th>parent_id</th>\n",
       "      <td>65</td>\n",
       "    </tr>\n",
       "    <tr>\n",
       "      <th>contract_start</th>\n",
       "      <td>782</td>\n",
       "    </tr>\n",
       "    <tr>\n",
       "      <th>contract_end</th>\n",
       "      <td>721</td>\n",
       "    </tr>\n",
       "    <tr>\n",
       "      <th>first_name</th>\n",
       "      <td>1608</td>\n",
       "    </tr>\n",
       "    <tr>\n",
       "      <th>last_name</th>\n",
       "      <td>1710</td>\n",
       "    </tr>\n",
       "    <tr>\n",
       "      <th>country_code</th>\n",
       "      <td>3</td>\n",
       "    </tr>\n",
       "    <tr>\n",
       "      <th>assigned_to</th>\n",
       "      <td>30</td>\n",
       "    </tr>\n",
       "  </tbody>\n",
       "</table>\n",
       "</div>"
      ],
      "text/plain": [
       "                       unique entries\n",
       "room_designation                  777\n",
       "flat_id                           547\n",
       "legal_entity                        5\n",
       "area_name                          40\n",
       "building                          153\n",
       "customer_invoice_name            2036\n",
       "prospect_id                      2557\n",
       "parent_id                          65\n",
       "contract_start                    782\n",
       "contract_end                      721\n",
       "first_name                       1608\n",
       "last_name                        1710\n",
       "country_code                        3\n",
       "assigned_to                        30"
      ]
     },
     "execution_count": 5,
     "metadata": {},
     "output_type": "execute_result"
    }
   ],
   "source": [
    "# unique values\n",
    "pd.DataFrame(data.nunique(), columns=['unique entries'])"
   ]
  },
  {
   "cell_type": "code",
   "execution_count": 6,
   "metadata": {},
   "outputs": [
    {
     "data": {
      "text/plain": [
       "room_designation    912\n",
       "dtype: int64"
      ]
     },
     "execution_count": 6,
     "metadata": {},
     "output_type": "execute_result"
    }
   ],
   "source": [
    "# empty rows\n",
    "data.isna().sum()[data.isna().sum() != 0]"
   ]
  },
  {
   "cell_type": "markdown",
   "metadata": {},
   "source": [
    "---"
   ]
  },
  {
   "cell_type": "markdown",
   "metadata": {},
   "source": [
    "## **Preprocessing**\n",
    "* Calculate contract duration (days)\n",
    "* Add contract category: ```long_term_contract``` (1 = more than 5\\*365 days | 0 = 5\\*365 days or less)"
   ]
  },
  {
   "cell_type": "code",
   "execution_count": 23,
   "metadata": {},
   "outputs": [
    {
     "name": "stdout",
     "output_type": "stream",
     "text": [
      "Histogram of Contract Length (Days)\n"
     ]
    },
    {
     "data": {
      "image/png": "[encoded data removed]",
      "text/plain": [
       "<Figure size 1080x216 with 1 Axes>"
      ]
     },
     "metadata": {
      "needs_background": "light"
     },
     "output_type": "display_data"
    }
   ],
   "source": [
    "data['contract_days'] = (data['contract_end'] - data['contract_start']).astype(str).str.split().str[0].astype(int)\n",
    "data.loc[data['contract_days'] < 0, 'contract_days'] = 0\n",
    "plt.figure(figsize=(15,3))\n",
    "minor_ticks = np.arange(0, 13*365, 365)\n",
    "ax = sns.distplot(data['contract_days'], bins=100, kde=False, color='teal')\n",
    "ax.set_xticks(minor_ticks)\n",
    "ax.grid(which='both')\n",
    "print('Histogram of Contract Length (Days)')"
   ]
  },
  {
   "cell_type": "markdown",
   "metadata": {},
   "source": [
    "**Two distributions:**\n",
    "* long term contracts (~10 years)\n",
    "* short term ones (mostly < 1 year)\n",
    "* one entry is -305 days (set to 0 for now)"
   ]
  },
  {
   "cell_type": "code",
   "execution_count": 25,
   "metadata": {},
   "outputs": [],
   "source": [
    "#add long_term_contract column\n",
    "data['long_term_contract'] = 0\n",
    "data.loc[data['contract_days'] > 5*365, 'long_term_contract'] = 1"
   ]
  },
  {
   "cell_type": "markdown",
   "metadata": {},
   "source": [
    "---"
   ]
  },
  {
   "cell_type": "markdown",
   "metadata": {},
   "source": [
    "## **Active Contracts (i.e. Occupancy) Trends**"
   ]
  },
  {
   "cell_type": "code",
   "execution_count": 24,
   "metadata": {},
   "outputs": [],
   "source": [
    "def get_daterange(row):\n",
    "    return [x for x in pd.date_range(row[0], row[1])]"
   ]
  },
  {
   "cell_type": "code",
   "execution_count": 143,
   "metadata": {},
   "outputs": [
    {
     "data": {
      "image/png": "[encoded data removed]",
      "text/plain": [
       "<Figure size 864x216 with 1 Axes>"
      ]
     },
     "metadata": {
      "needs_background": "light"
     },
     "output_type": "display_data"
    }
   ],
   "source": [
    "total_contract_dates = pd.DataFrame(data[['contract_start','contract_end']].apply(get_daterange, axis=1).tolist()).T.apply(pd.value_counts)\n",
    "total_contract_dates = total_contract_dates.count(axis=1)\n",
    "total_contract_dates.plot(figsize=(12,3), grid=True);"
   ]
  },
  {
   "cell_type": "markdown",
   "metadata": {},
   "source": [
    "**Observations:**\n",
    "* Sharp growth in late 2017\n",
    "* Sharp growth since mid-2019 until now\n",
    "* The long tail is due to the long-term contracts"
   ]
  },
  {
   "cell_type": "code",
   "execution_count": 58,
   "metadata": {},
   "outputs": [],
   "source": [
    "def contracts_by_day(data, country_code):\n",
    "    dates = pd.DataFrame(data[data['country_code']==country_code][['contract_start','contract_end']].apply(get_daterange, axis=1).tolist()).T.apply(pd.value_counts)\n",
    "    return pd.DataFrame(dates.count(axis=1), columns=[country_code])"
   ]
  },
  {
   "cell_type": "code",
   "execution_count": 59,
   "metadata": {},
   "outputs": [],
   "source": [
    "cc = data['country_code'].unique()\n",
    "dates = [None] * 3\n",
    "dates[0] = contracts_by_day(data, cc[0])\n",
    "dates[1] = contracts_by_day(data, cc[1])\n",
    "dates[2] = contracts_by_day(data, cc[2])"
   ]
  },
  {
   "cell_type": "code",
   "execution_count": 60,
   "metadata": {},
   "outputs": [],
   "source": [
    "def merge_outer_index(a, b):\n",
    "    return a.merge(b,left_index=True, right_index=True, how='outer')"
   ]
  },
  {
   "cell_type": "markdown",
   "metadata": {},
   "source": [
    "### **Breaking down active contracts by country**"
   ]
  },
  {
   "cell_type": "code",
   "execution_count": 68,
   "metadata": {},
   "outputs": [
    {
     "name": "stdout",
     "output_type": "stream",
     "text": [
      "Stacked area plot of active contracts, by country\n"
     ]
    },
    {
     "data": {
      "image/png": "[encoded data removed]",
      "text/plain": [
       "<Figure size 864x216 with 1 Axes>"
      ]
     },
     "metadata": {
      "needs_background": "light"
     },
     "output_type": "display_data"
    }
   ],
   "source": [
    "contract_dates = merge_outer_index(merge_outer_index(dates[0], dates[1]), dates[2])\n",
    "contract_dates.plot.area(figsize=(12,3), grid=True);\n",
    "print(\"Stacked area plot of active contracts, by country\")"
   ]
  },
  {
   "cell_type": "markdown",
   "metadata": {},
   "source": [
    "### **Seasonality Trends**\n",
    "* compare the no. of active contracts during the years (range normalized from 0-1)"
   ]
  },
  {
   "cell_type": "code",
   "execution_count": 224,
   "metadata": {},
   "outputs": [],
   "source": [
    "total_contract_years = pd.DataFrame(total_contract_dates)\n",
    "total_contract_years['year'] = total_contract_dates.index.year\n",
    "total_contract_years['dayofyear'] = total_contract_years.index.dayofyear"
   ]
  },
  {
   "cell_type": "code",
   "execution_count": 225,
   "metadata": {},
   "outputs": [],
   "source": [
    "def norm_range(col):\n",
    "    s = col.max() - col.min()\n",
    "    return (col - col.min())/s"
   ]
  },
  {
   "cell_type": "code",
   "execution_count": 231,
   "metadata": {},
   "outputs": [
    {
     "name": "stdout",
     "output_type": "stream",
     "text": [
      "Normalized active contract, by year\n"
     ]
    },
    {
     "data": {
      "image/png": "[encoded data removed]",
      "text/plain": [
       "<Figure size 576x288 with 1 Axes>"
      ]
     },
     "metadata": {
      "needs_background": "light"
     },
     "output_type": "display_data"
    }
   ],
   "source": [
    "#range of interest\n",
    "rg = range(2017,2019+1)\n",
    "ax = total_contract_years[total_contract_years.year.isin(rg)].pivot(columns='year', index='dayofyear').apply(norm_range).plot(figsize=(8,4));\n",
    "pd.DataFrame([[1,365],[0,1]]).set_index(1).rename(columns={0:\"Constant Growth\"}).plot(ax=ax, color='grey', alpha=0.5);\n",
    "print(\"Normalized active contract, by year\")"
   ]
  },
  {
   "cell_type": "markdown",
   "metadata": {},
   "source": [
    "**Observations:**\n",
    "* in 2018 and 2019, we see a dip in active contracts in th elast month\n",
    "* *Note: above the gray line --> faster than constant growth*"
   ]
  },
  {
   "cell_type": "markdown",
   "metadata": {},
   "source": [
    "---"
   ]
  },
  {
   "cell_type": "markdown",
   "metadata": {},
   "source": [
    "## **Exploration by country**\n",
    "* There are 3 countries (which I'm guessing are Singapore, Hong Kong and Australia).\n",
    "* Most transactions come from one country"
   ]
  },
  {
   "cell_type": "code",
   "execution_count": 134,
   "metadata": {},
   "outputs": [
    {
     "name": "stdout",
     "output_type": "stream",
     "text": [
      "Building count by country\n"
     ]
    },
    {
     "data": {
      "image/png": "[encoded data removed]",
      "text/plain": [
       "<Figure size 432x144 with 1 Axes>"
      ]
     },
     "metadata": {
      "needs_background": "light"
     },
     "output_type": "display_data"
    }
   ],
   "source": [
    "building_country = data[['country_code','building']].drop_duplicates().groupby('country_code').count().rename(columns={'building':'building_count'}).reset_index()\n",
    "plt.figure(figsize=(6,2))\n",
    "sns.barplot(x='country_code',y='building_count', data=building_country, palette=sns.color_palette(\"GnBu_d\",3));\n",
    "print(\"Building count by country\")"
   ]
  },
  {
   "cell_type": "code",
   "execution_count": 135,
   "metadata": {},
   "outputs": [
    {
     "name": "stdout",
     "output_type": "stream",
     "text": [
      "Transaction counts by country\n"
     ]
    },
    {
     "data": {
      "image/png": "[encoded data removed]",
      "text/plain": [
       "<Figure size 432x144 with 1 Axes>"
      ]
     },
     "metadata": {
      "needs_background": "light"
     },
     "output_type": "display_data"
    }
   ],
   "source": [
    "country_code = data[['country_code','prospect_id']].groupby('country_code').count().rename(columns={'prospect_id':'transactions'}).reset_index()\n",
    "plt.figure(figsize=(6,2))\n",
    "sns.barplot(x='country_code',y='transactions', data=country_code, palette=sns.color_palette(\"GnBu_d\",3));\n",
    "print(\"Transaction counts by country\")"
   ]
  },
  {
   "cell_type": "markdown",
   "metadata": {},
   "source": [
    "### **Transactions count by buildings**\n",
    "* data from every country is shown separately"
   ]
  },
  {
   "cell_type": "code",
   "execution_count": 12,
   "metadata": {},
   "outputs": [],
   "source": [
    "def plot_building(data, country):\n",
    "    data = data[data['country_code'] == country].sort_values(by='transactions', ascending=False).reset_index(drop=True)\n",
    "    plt.figure(figsize=(12,3))\n",
    "    fig = sns.barplot(y='transactions',x='building', data=data, order=data['building'], palette=sns.cubehelix_palette(len(data),reverse=True))\n",
    "    print(\"Transaction counts by building, in country {}\".format(country))"
   ]
  },
  {
   "cell_type": "code",
   "execution_count": 13,
   "metadata": {},
   "outputs": [
    {
     "name": "stdout",
     "output_type": "stream",
     "text": [
      "Transaction counts by building, in country 8661876742477959168\n"
     ]
    },
    {
     "data": {
      "image/png": "[encoded data removed]",
      "text/plain": [
       "<Figure size 864x216 with 1 Axes>"
      ]
     },
     "metadata": {
      "needs_background": "light"
     },
     "output_type": "display_data"
    }
   ],
   "source": [
    "cc = data['country_code'].unique()\n",
    "cc_building = data[['country_code','building','prospect_id']].groupby(['country_code','building']).count().rename(columns={'prospect_id':'transactions'}).reset_index()\n",
    "plot_building(cc_building, cc[2])"
   ]
  },
  {
   "cell_type": "code",
   "execution_count": 14,
   "metadata": {},
   "outputs": [
    {
     "name": "stdout",
     "output_type": "stream",
     "text": [
      "Transaction counts by building, in country 4422705706840367104\n"
     ]
    },
    {
     "data": {
      "image/png": "[encoded data removed]",
      "text/plain": [
       "<Figure size 864x216 with 1 Axes>"
      ]
     },
     "metadata": {
      "needs_background": "light"
     },
     "output_type": "display_data"
    }
   ],
   "source": [
    "plot_building(cc_building, cc[0])"
   ]
  },
  {
   "cell_type": "code",
   "execution_count": 15,
   "metadata": {},
   "outputs": [
    {
     "name": "stdout",
     "output_type": "stream",
     "text": [
      "Transaction counts by building, in country 868959237512363904\n"
     ]
    },
    {
     "data": {
      "image/png": "[encoded data removed]",
      "text/plain": [
       "<Figure size 864x216 with 1 Axes>"
      ]
     },
     "metadata": {
      "needs_background": "light"
     },
     "output_type": "display_data"
    }
   ],
   "source": [
    "plot_building(cc_building, cc[1])"
   ]
  },
  {
   "cell_type": "markdown",
   "metadata": {},
   "source": [
    "### **Transactions count by customer**\n",
    "* 87% customers are 1st-time\n",
    "* 11% 2nd-time\n",
    "* Max: 1 customer had 44 transactions"
   ]
  },
  {
   "cell_type": "code",
   "execution_count": 69,
   "metadata": {},
   "outputs": [
    {
     "data": {
      "image/png": "[encoded data removed]",
      "text/plain": [
       "<Figure size 648x216 with 1 Axes>"
      ]
     },
     "metadata": {
      "needs_background": "light"
     },
     "output_type": "display_data"
    }
   ],
   "source": [
    "cust_invoice_count = data['customer_invoice_name'].value_counts()\n",
    "cust_invoice_count.hist(bins=range(0,cust_invoice_count.max()), figsize=(9,3), color='#88d0bb');"
   ]
  },
  {
   "cell_type": "code",
   "execution_count": 102,
   "metadata": {},
   "outputs": [
    {
     "data": {
      "text/html": [
       "<div>\n",
       "<style scoped>\n",
       "    .dataframe tbody tr th:only-of-type {\n",
       "        vertical-align: middle;\n",
       "    }\n",
       "\n",
       "    .dataframe tbody tr th {\n",
       "        vertical-align: top;\n",
       "    }\n",
       "\n",
       "    .dataframe thead th {\n",
       "        text-align: right;\n",
       "    }\n",
       "</style>\n",
       "<table border=\"1\" class=\"dataframe\">\n",
       "  <thead>\n",
       "    <tr style=\"text-align: right;\">\n",
       "      <th></th>\n",
       "      <th>num_of_transactions</th>\n",
       "      <th>num_of_customers</th>\n",
       "    </tr>\n",
       "  </thead>\n",
       "  <tbody>\n",
       "    <tr>\n",
       "      <th>0</th>\n",
       "      <td>1</td>\n",
       "      <td>1763</td>\n",
       "    </tr>\n",
       "    <tr>\n",
       "      <th>1</th>\n",
       "      <td>2</td>\n",
       "      <td>227</td>\n",
       "    </tr>\n",
       "    <tr>\n",
       "      <th>2</th>\n",
       "      <td>3</td>\n",
       "      <td>26</td>\n",
       "    </tr>\n",
       "    <tr>\n",
       "      <th>3</th>\n",
       "      <td>4</td>\n",
       "      <td>5</td>\n",
       "    </tr>\n",
       "    <tr>\n",
       "      <th>4</th>\n",
       "      <td>5</td>\n",
       "      <td>2</td>\n",
       "    </tr>\n",
       "    <tr>\n",
       "      <th>11</th>\n",
       "      <td>6</td>\n",
       "      <td>1</td>\n",
       "    </tr>\n",
       "    <tr>\n",
       "      <th>10</th>\n",
       "      <td>8</td>\n",
       "      <td>1</td>\n",
       "    </tr>\n",
       "    <tr>\n",
       "      <th>9</th>\n",
       "      <td>9</td>\n",
       "      <td>1</td>\n",
       "    </tr>\n",
       "    <tr>\n",
       "      <th>5</th>\n",
       "      <td>10</td>\n",
       "      <td>2</td>\n",
       "    </tr>\n",
       "    <tr>\n",
       "      <th>7</th>\n",
       "      <td>13</td>\n",
       "      <td>1</td>\n",
       "    </tr>\n",
       "    <tr>\n",
       "      <th>6</th>\n",
       "      <td>14</td>\n",
       "      <td>1</td>\n",
       "    </tr>\n",
       "    <tr>\n",
       "      <th>12</th>\n",
       "      <td>15</td>\n",
       "      <td>1</td>\n",
       "    </tr>\n",
       "    <tr>\n",
       "      <th>13</th>\n",
       "      <td>17</td>\n",
       "      <td>1</td>\n",
       "    </tr>\n",
       "    <tr>\n",
       "      <th>14</th>\n",
       "      <td>24</td>\n",
       "      <td>1</td>\n",
       "    </tr>\n",
       "    <tr>\n",
       "      <th>15</th>\n",
       "      <td>30</td>\n",
       "      <td>1</td>\n",
       "    </tr>\n",
       "    <tr>\n",
       "      <th>8</th>\n",
       "      <td>32</td>\n",
       "      <td>1</td>\n",
       "    </tr>\n",
       "    <tr>\n",
       "      <th>16</th>\n",
       "      <td>44</td>\n",
       "      <td>1</td>\n",
       "    </tr>\n",
       "  </tbody>\n",
       "</table>\n",
       "</div>"
      ],
      "text/plain": [
       "    num_of_transactions  num_of_customers\n",
       "0                     1              1763\n",
       "1                     2               227\n",
       "2                     3                26\n",
       "3                     4                 5\n",
       "4                     5                 2\n",
       "11                    6                 1\n",
       "10                    8                 1\n",
       "9                     9                 1\n",
       "5                    10                 2\n",
       "7                    13                 1\n",
       "6                    14                 1\n",
       "12                   15                 1\n",
       "13                   17                 1\n",
       "14                   24                 1\n",
       "15                   30                 1\n",
       "8                    32                 1\n",
       "16                   44                 1"
      ]
     },
     "execution_count": 102,
     "metadata": {},
     "output_type": "execute_result"
    }
   ],
   "source": [
    "pd.DataFrame(cust_invoice_count.value_counts().reset_index())\\\n",
    ".rename(columns={\"index\":\"num_of_transactions\",\"customer_invoice_name\":\"num_of_customers\"})\\\n",
    ".sort_values(by=['num_of_transactions'])"
   ]
  }
 ],
 "metadata": {
  "kernelspec": {
   "display_name": "Python 3",
   "language": "python",
   "name": "python3"
  },
  "language_info": {
   "codemirror_mode": {
    "name": "ipython",
    "version": 3
   },
   "file_extension": ".py",
   "mimetype": "text/x-python",
   "name": "python",
   "nbconvert_exporter": "python",
   "pygments_lexer": "ipython3",
   "version": "3.5.2"
  }
 },
 "nbformat": 4,
 "nbformat_minor": 2
}
